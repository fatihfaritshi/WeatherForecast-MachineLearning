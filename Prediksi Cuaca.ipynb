{
 "cells": [
  {
   "cell_type": "code",
   "execution_count": 1,
   "id": "b5f31282",
   "metadata": {},
   "outputs": [
    {
     "name": "stdout",
     "output_type": "stream",
     "text": [
      "{'Kota': 'Painan', 'Suhu (°C)': 25.43, 'Cuaca': 'Overcast clouds', 'Kelembaban (%)': 88, 'Kecepatan Angin (m/s)': 1.72}\n"
     ]
    },
    {
     "data": {
      "image/png": "[encoded data removed]",
      "text/plain": [
       "<Figure size 800x500 with 1 Axes>"
      ]
     },
     "metadata": {},
     "output_type": "display_data"
    }
   ],
   "source": [
    "# Import library\n",
    "import requests\n",
    "import pandas as pd\n",
    "import matplotlib.pyplot as plt\n",
    "\n",
    "# API key (ini HARUS di luar fungsi, jangan di dalam)\n",
    "api_key = 'f6a79db0fba22353d1625b676200f157'\n",
    "\n",
    "# Fungsi untuk mengambil data cuaca\n",
    "def get_weather(city_name, api_key):\n",
    "    base_url = \"http://api.openweathermap.org/data/2.5/weather\"\n",
    "    params = {\n",
    "        'q': city_name,\n",
    "        'appid': api_key,\n",
    "        'units': 'metric'  # biar suhu dalam Celcius\n",
    "    }\n",
    "\n",
    "    response = requests.get(base_url, params=params)\n",
    "    data = response.json()\n",
    "    \n",
    "    if response.status_code == 200:\n",
    "        weather_info = {\n",
    "            'Kota': data['name'],\n",
    "            'Suhu (°C)': data['main']['temp'],\n",
    "            'Cuaca': data['weather'][0]['description'].capitalize(),\n",
    "            'Kelembaban (%)': data['main']['humidity'],\n",
    "            'Kecepatan Angin (m/s)': data['wind']['speed']\n",
    "        }\n",
    "        return weather_info\n",
    "    else:\n",
    "        return f\"Error: {data['message']}\"\n",
    "\n",
    "# Input nama kota\n",
    "city = input(\"Masukkan nama kota: \")\n",
    "\n",
    "# Ambil data cuaca\n",
    "weather_data = get_weather(city, api_key)\n",
    "\n",
    "# Tampilkan hasil\n",
    "print(weather_data)\n",
    "\n",
    "# Fungsi tampilkan data dalam tabel DataFrame\n",
    "def display_weather(data):\n",
    "    if isinstance(data, dict):\n",
    "        df = pd.DataFrame(data.items(), columns=['Parameter', 'Nilai'])\n",
    "        return df\n",
    "    else:\n",
    "        return data\n",
    "\n",
    "# Tampilkan tabel data cuaca\n",
    "display_weather(weather_data)\n",
    "\n",
    "# Fungsi untuk membuat grafik\n",
    "def plot_weather(data):\n",
    "    if isinstance(data, dict):\n",
    "        labels = ['Suhu (°C)', 'Kelembaban (%)', 'Kecepatan Angin (m/s)']\n",
    "        values = [data['Suhu (°C)'], data['Kelembaban (%)'], data['Kecepatan Angin (m/s)']]\n",
    "\n",
    "        plt.figure(figsize=(8,5))\n",
    "        plt.bar(labels, values, color=['#f39c12', '#3498db', '#2ecc71'])\n",
    "        plt.title(f\"Kondisi Cuaca di {data['Kota']}\")\n",
    "        plt.ylabel('Nilai')\n",
    "        plt.show()\n",
    "    else:\n",
    "        print(data)\n",
    "\n",
    "# Tampilkan grafik\n",
    "plot_weather(weather_data)\n",
    "\n",
    "# Fungsi ambil cuaca banyak kota sekaligus\n",
    "def multiple_city_weather(cities, api_key):\n",
    "    all_data = []\n",
    "    for city in cities:\n",
    "        data = get_weather(city, api_key)\n",
    "        if isinstance(data, dict):\n",
    "            all_data.append(data)\n",
    "        else:\n",
    "            print(data)\n",
    "    \n",
    "    df = pd.DataFrame(all_data)\n",
    "    return df\n",
    "\n"
   ]
  }
 ],
 "metadata": {
  "kernelspec": {
   "display_name": "Python 3",
   "language": "python",
   "name": "python3"
  },
  "language_info": {
   "codemirror_mode": {
    "name": "ipython",
    "version": 3
   },
   "file_extension": ".py",
   "mimetype": "text/x-python",
   "name": "python",
   "nbconvert_exporter": "python",
   "pygments_lexer": "ipython3",
   "version": "3.12.6"
  }
 },
 "nbformat": 4,
 "nbformat_minor": 5
}
