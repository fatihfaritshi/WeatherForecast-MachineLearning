{
 "cells": [
  {
   "cell_type": "code",
   "execution_count": 1,
   "id": "6a060b6d",
   "metadata": {},
   "outputs": [
    {
     "data": {
      "application/vnd.jupyter.widget-view+json": {
       "model_id": "4588327488c34a4ab4548e9d95c7f05a",
       "version_major": 2,
       "version_minor": 0
      },
      "text/plain": [
       "Text(value='Jakarta', description='Kota:', placeholder='Contoh: Jakarta, Surabaya')"
      ]
     },
     "metadata": {},
     "output_type": "display_data"
    },
    {
     "data": {
      "application/vnd.jupyter.widget-view+json": {
       "model_id": "76d4e1b43f1c4dc5924fef5c642fc1d5",
       "version_major": 2,
       "version_minor": 0
      },
      "text/plain": [
       "Button(description='Lihat Cuaca 🔍', style=ButtonStyle())"
      ]
     },
     "metadata": {},
     "output_type": "display_data"
    },
    {
     "data": {
      "application/vnd.jupyter.widget-view+json": {
       "model_id": "aa2d3a582b0d44efa5dc5beeff991ce2",
       "version_major": 2,
       "version_minor": 0
      },
      "text/plain": [
       "Output()"
      ]
     },
     "metadata": {},
     "output_type": "display_data"
    }
   ],
   "source": [
    "import requests\n",
    "import pandas as pd\n",
    "import matplotlib.pyplot as plt\n",
    "import seaborn as sns\n",
    "from ipywidgets import widgets, interact\n",
    "from IPython.display import display, HTML\n",
    "from datetime import datetime\n",
    "\n",
    "# API Key\n",
    "api_key = 'f6a79db0fba22353d1625b676200f157'\n",
    "\n",
    "# Ambil cuaca saat ini\n",
    "def get_weather(city_name):\n",
    "    url = \"http://api.openweathermap.org/data/2.5/weather\"\n",
    "    params = {'q': city_name, 'appid': api_key, 'units': 'metric'}\n",
    "    response = requests.get(url, params=params)\n",
    "    data = response.json()\n",
    "    \n",
    "    if response.status_code == 200:\n",
    "        icon_code = data['weather'][0]['icon']\n",
    "        return {\n",
    "            'Kota': data['name'],\n",
    "            'Suhu (°C)': data['main']['temp'],\n",
    "            'Cuaca': data['weather'][0]['description'].capitalize(),\n",
    "            'Kelembaban (%)': data['main']['humidity'],\n",
    "            'Angin (m/s)': data['wind']['speed'],\n",
    "            'Tekanan (hPa)': data['main']['pressure'],\n",
    "            'Icon': f\"http://openweathermap.org/img/wn/{icon_code}@2x.png\"\n",
    "        }\n",
    "    else:\n",
    "        return None\n",
    "\n",
    "# Ambil prediksi 5 hari\n",
    "def get_forecast(city_name):\n",
    "    url = \"http://api.openweathermap.org/data/2.5/forecast\"\n",
    "    params = {'q': city_name, 'appid': api_key, 'units': 'metric'}\n",
    "    response = requests.get(url, params=params)\n",
    "    data = response.json()\n",
    "\n",
    "    if response.status_code == 200:\n",
    "        forecast = []\n",
    "        for item in data['list']:\n",
    "            forecast.append({\n",
    "                'Waktu': datetime.fromtimestamp(item['dt']),\n",
    "                'Suhu (°C)': item['main']['temp'],\n",
    "                'Kelembaban (%)': item['main']['humidity'],\n",
    "                'Angin (m/s)': item['wind']['speed']\n",
    "            })\n",
    "        return pd.DataFrame(forecast)\n",
    "    return None\n",
    "\n",
    "# Tampilkan kartu cuaca cantik\n",
    "def display_weather_card(data):\n",
    "    html = f\"\"\"\n",
    "    <div style=\"background: linear-gradient(135deg, #2980b9, #6dd5fa); \n",
    "                padding: 20px; border-radius: 20px; color: white; \n",
    "                width: 360px; margin: 15px 0; font-family: 'Arial';\">\n",
    "        <h2>{data['Kota']}</h2>\n",
    "        <img src=\"{data['Icon']}\" style=\"float:right; height:60px;\">\n",
    "        <h3>{data['Cuaca']}</h3>\n",
    "        <p style=\"font-size:16px; line-height: 1.6;\">\n",
    "            🌡️ Suhu: <b>{data['Suhu (°C)']}°C</b><br>\n",
    "            💧 Kelembaban: <b>{data['Kelembaban (%)']}%</b><br>\n",
    "            💨 Angin: <b>{data['Angin (m/s)']} m/s</b><br>\n",
    "            🔵 Tekanan: <b>{data['Tekanan (hPa)']} hPa</b>\n",
    "        </p>\n",
    "    </div>\n",
    "    \"\"\"\n",
    "    display(HTML(html))\n",
    "\n",
    "# Plot grafik interaktif\n",
    "def plot_forecast_chart(df, city):\n",
    "    plt.figure(figsize=(12,6))\n",
    "    sns.set_theme(style=\"whitegrid\")\n",
    "    sns.lineplot(x='Waktu', y='Suhu (°C)', data=df, label='Suhu', color='tomato', marker='o')\n",
    "    sns.lineplot(x='Waktu', y='Kelembaban (%)', data=df, label='Kelembaban', color='royalblue', marker='s')\n",
    "    sns.lineplot(x='Waktu', y='Angin (m/s)', data=df, label='Angin', color='green', marker='^')\n",
    "    plt.title(f'Grafik Perkiraan Cuaca 5 Hari di {city}', fontsize=16)\n",
    "    plt.xlabel('Waktu')\n",
    "    plt.ylabel('Nilai')\n",
    "    plt.xticks(rotation=45)\n",
    "    plt.legend()\n",
    "    plt.tight_layout()\n",
    "    plt.show()\n",
    "\n",
    "# Simpan ke file\n",
    "def save_to_file(df, filename):\n",
    "    df.to_csv(f\"{filename}.csv\", index=False)\n",
    "    df.to_excel(f\"{filename}.xlsx\", index=False)\n",
    "    print(f\"📁 Data berhasil disimpan sebagai {filename}.csv dan {filename}.xlsx\")\n",
    "\n",
    "# Dashboard interaktif\n",
    "def interactive_weather_dashboard():\n",
    "    city_input = widgets.Text(\n",
    "        value='Jakarta',\n",
    "        description='Kota:',\n",
    "        placeholder='Contoh: Jakarta, Surabaya'\n",
    "    )\n",
    "    display(city_input)\n",
    "\n",
    "    button = widgets.Button(description=\"Lihat Cuaca 🔍\")\n",
    "    output = widgets.Output()\n",
    "    display(button, output)\n",
    "\n",
    "    def on_click(b):\n",
    "        with output:\n",
    "            output.clear_output()\n",
    "            cities = [c.strip() for c in city_input.value.split(',')]\n",
    "            data_list = []\n",
    "            for city in cities:\n",
    "                print(f\"🔄 Mengambil data untuk {city}...\")\n",
    "                data = get_weather(city)\n",
    "                if data:\n",
    "                    display_weather_card(data)\n",
    "                    data_list.append(data)\n",
    "                else:\n",
    "                    print(f\"⚠️ Data tidak ditemukan untuk {city}\")\n",
    "\n",
    "            if data_list:\n",
    "                df = pd.DataFrame(data_list)\n",
    "                display(df.style.background_gradient(cmap='coolwarm'))\n",
    "                save_to_file(df, \"cuaca_summary\")\n",
    "\n",
    "                dropdown = widgets.Dropdown(options=cities, description=\"Detail:\")\n",
    "                display(dropdown)\n",
    "\n",
    "                def on_dropdown_change(change):\n",
    "                    if change['type'] == 'change' and change['name'] == 'value':\n",
    "                        selected = change['new']\n",
    "                        forecast_df = get_forecast(selected)\n",
    "                        if forecast_df is not None:\n",
    "                            plot_forecast_chart(forecast_df, selected)\n",
    "                        else:\n",
    "                            print(\"⚠️ Forecast tidak tersedia.\")\n",
    "\n",
    "                dropdown.observe(on_dropdown_change)\n",
    "\n",
    "    button.on_click(on_click)\n",
    "\n",
    "# Jalankan\n",
    "interactive_weather_dashboard()\n"
   ]
  }
 ],
 "metadata": {
  "kernelspec": {
   "display_name": "Python 3",
   "language": "python",
   "name": "python3"
  },
  "language_info": {
   "codemirror_mode": {
    "name": "ipython",
    "version": 3
   },
   "file_extension": ".py",
   "mimetype": "text/x-python",
   "name": "python",
   "nbconvert_exporter": "python",
   "pygments_lexer": "ipython3",
   "version": "3.12.6"
  }
 },
 "nbformat": 4,
 "nbformat_minor": 5
}
